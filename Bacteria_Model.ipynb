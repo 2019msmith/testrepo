{
 "cells": [
  {
   "cell_type": "markdown",
   "metadata": {},
   "source": [
    "### Bacteria model"
   ]
  },
  {
   "cell_type": "markdown",
   "metadata": {},
   "source": [
    "First, we load the necessary Python modules."
   ]
  },
  {
   "cell_type": "code",
   "execution_count": 1,
   "metadata": {},
   "outputs": [],
   "source": [
    "%matplotlib widget\n",
    "\n",
    "import numpy as np\n",
    "import matplotlib.cm as cm\n",
    "import matplotlib.pyplot as plt\n",
    "import matplotlib.animation as animation\n",
    "import matplotlib.colors as colors"
   ]
  },
  {
   "cell_type": "markdown",
   "metadata": {},
   "source": [
    "Next, we define function to compute the second derivative and the overall solution numerically."
   ]
  },
  {
   "cell_type": "code",
   "execution_count": 2,
   "metadata": {},
   "outputs": [],
   "source": [
    "def discrete_laplacian(u):\n",
    "    L = -2*u\n",
    "    L += np.roll(u, -1)\n",
    "    L += np.roll(u, +1)\n",
    "    L[0]   = 2*(-u[0]+u[1])\n",
    "    L[-1] = 2*(-u[-1]+u[-2])\n",
    "    return L\n",
    "\n",
    "def model_update(u, delta_t, D, r, K):\n",
    "    u += (D*discrete_laplacian(u) + r*u*(1-u/K)) * delta_t\n",
    "    return u\n",
    "\n",
    "def get_initial_condition(N):\n",
    "    x = np.linspace(0, 1, N)\n",
    "    u = 1.5*K*(np.heaviside(x-0.4, 0) - np.heaviside(x-0.6, 0))\n",
    "    return u\n",
    "\n",
    "def update_graph(frame_id, updates_per_frame, u, delta_t, D, r, K):\n",
    "    global p\n",
    "    for n in range(updates_per_frame):\n",
    "        u = model_update(u, delta_t, D, r, K)\n",
    "    p = np.vstack((p, u))\n",
    "    x = np.linspace(0, 1, N)\n",
    "    u0 = get_initial_condition(N)\n",
    "    line1.set_data(x, u0)\n",
    "    line2.set_data(x, u)\n",
    "    return [line1,line2]"
   ]
  },
  {
   "cell_type": "markdown",
   "metadata": {},
   "source": [
    "In the next cell, we define the parameters of our model, set the initial condition, and run the animation of the solution."
   ]
  },
  {
   "cell_type": "code",
   "execution_count": 3,
   "metadata": {},
   "outputs": [
    {
     "data": {
      "application/vnd.jupyter.widget-view+json": {
       "model_id": "cf88e8ff2b2d405783621495bd505d95",
       "version_major": 2,
       "version_minor": 0
      },
      "text/plain": [
       "Canvas(toolbar=Toolbar(toolitems=[('Home', 'Reset original view', 'home', 'home'), ('Back', 'Back to previous …"
      ]
     },
     "metadata": {},
     "output_type": "display_data"
    }
   ],
   "source": [
    "# model parameters\n",
    "D = 10    # diffusion coefficient\n",
    "r = 2     # growth rate\n",
    "K = 4     # carrying capacity\n",
    "\n",
    "# numerical parameters\n",
    "N = 200          # grid size\n",
    "delta_t = 0.01   # time step\n",
    "\n",
    "# animation parameters\n",
    "N_simulation_steps = 1500\n",
    "updates_per_frame = 2\n",
    "\n",
    "# set initial condition\n",
    "u = get_initial_condition(N)\n",
    "p = u\n",
    "\n",
    "# compute and animate solution\n",
    "fig = plt.figure()\n",
    "ax  = plt.axes(xlim=(0,1), ylim=(-0.1, np.max([K, np.max(u)])*1.1))\n",
    "line1, = ax.plot([], [], linewidth=2, color = \"red\")\n",
    "line2, = ax.plot([], [], linewidth=2, color = \"blue\")\n",
    "\n",
    "u = get_initial_condition(N)\n",
    "animation_arguments = (updates_per_frame, u, delta_t, D, r, K)\n",
    "ani = animation.FuncAnimation(fig, update_graph, fargs=animation_arguments,\n",
    "                              frames=int(N_simulation_steps/updates_per_frame),\n",
    "                              interval=10, blit=True, repeat=False)\n",
    "plt.show()"
   ]
  },
  {
   "cell_type": "markdown",
   "metadata": {},
   "source": [
    "Finally, we visualize the solution in a space-time contour plot."
   ]
  },
  {
   "cell_type": "code",
   "execution_count": 5,
   "metadata": {},
   "outputs": [
    {
     "data": {
      "application/vnd.jupyter.widget-view+json": {
       "model_id": "27b6d15b82c7481c86388c1b845d09a7",
       "version_major": 2,
       "version_minor": 0
      },
      "text/plain": [
       "Canvas(toolbar=Toolbar(toolitems=[('Home', 'Reset original view', 'home', 'home'), ('Back', 'Back to previous …"
      ]
     },
     "metadata": {},
     "output_type": "display_data"
    }
   ],
   "source": [
    "fig = plt.figure()\n",
    "colormapoffset = colors.TwoSlopeNorm(vmin=0, vcenter=K)\n",
    "plt.imshow(p, cmap=cm.RdBu, norm=colormapoffset, extent=[0,1,0, delta_t*N_simulation_steps],\n",
    "          aspect='auto', origin='lower')\n",
    "plt.xlabel('Space x')\n",
    "plt.ylabel('Time t')\n",
    "plt.colorbar()\n",
    "plt.show()"
   ]
  },
  {
   "cell_type": "code",
   "execution_count": null,
   "metadata": {},
   "outputs": [],
   "source": []
  }
 ],
 "metadata": {
  "kernelspec": {
   "display_name": "apma0360",
   "language": "python",
   "name": "apma0360"
  },
  "language_info": {
   "codemirror_mode": {
    "name": "ipython",
    "version": 3
   },
   "file_extension": ".py",
   "mimetype": "text/x-python",
   "name": "python",
   "nbconvert_exporter": "python",
   "pygments_lexer": "ipython3",
   "version": "3.8.5"
  }
 },
 "nbformat": 4,
 "nbformat_minor": 4
}
